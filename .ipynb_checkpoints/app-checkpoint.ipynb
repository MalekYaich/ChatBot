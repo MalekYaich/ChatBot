{
 "cells": [
  {
   "cell_type": "code",
   "execution_count": 1,
   "id": "037b95fe",
   "metadata": {},
   "outputs": [],
   "source": [
    "from flask import Flask, render_template, request ,jsonify\n",
    "from flask_cors import CORS\n",
    "import speech_recognition as sr\n",
    "from pydub import AudioSegment\n",
    "import os\n",
    "import shutil\n",
    "\n",
    "\n",
    "from keras.models import model_from_json\n",
    "import nbimporter\n",
    "import ChatBot\n",
    "\n",
    "import warnings\n",
    "warnings.filterwarnings('ignore')"
   ]
  },
  {
   "cell_type": "code",
   "execution_count": 2,
   "id": "83024e4d",
   "metadata": {},
   "outputs": [
    {
     "name": "stdout",
     "output_type": "stream",
     "text": [
      "Loaded model from disk\n"
     ]
    }
   ],
   "source": [
    "json_file = open('model.json', 'r')\n",
    "loaded_model_json = json_file.read()\n",
    "json_file.close()\n",
    "model = model_from_json(loaded_model_json)\n",
    "model.load_weights(\"model.h5\")\n",
    "print(\"Loaded model from disk\")"
   ]
  },
  {
   "cell_type": "code",
   "execution_count": 11,
   "id": "0c9985dc",
   "metadata": {},
   "outputs": [
    {
     "name": "stdout",
     "output_type": "stream",
     "text": [
      " * Serving Flask app '__main__'\n",
      " * Debug mode: off\n"
     ]
    },
    {
     "name": "stderr",
     "output_type": "stream",
     "text": [
      "WARNING: This is a development server. Do not use it in a production deployment. Use a production WSGI server instead.\n",
      " * Running on http://127.0.0.1:5000\n",
      "Press CTRL+C to quit\n"
     ]
    },
    {
     "name": "stdout",
     "output_type": "stream",
     "text": [
      "1/1 [==============================] - 0s 47ms/step\n"
     ]
    },
    {
     "name": "stderr",
     "output_type": "stream",
     "text": [
      "127.0.0.1 - - [30/Apr/2023 23:26:21] \"POST /predict-audio HTTP/1.1\" 200 -\n"
     ]
    }
   ],
   "source": [
    "app = Flask(__name__)\n",
    "CORS(app)\n",
    "\n",
    "@app.post(\"/predict\")\n",
    "def predict ():\n",
    "    text=request.get_json().get(\"message\")\n",
    "    response=ChatBot.get_answer(text,model)\n",
    "    message={\"answer\": response}\n",
    "    return jsonify(message)\n",
    "\n",
    "\n",
    "@app.post(\"/predict-audio\")\n",
    "def predict_audio():\n",
    "    audio_file = request.files['audio']\n",
    "\n",
    "\n",
    "  # Save the uploaded file\n",
    "    temp_path = \"temp\" + os.path.splitext(audio_file.filename)[1]\n",
    "    audio_file.save(temp_path)\n",
    "\n",
    "    # Convert the audio file to a supported format (WAV)\n",
    "    converted_path = \"audio.wav\"\n",
    "    AudioSegment.from_file(temp_path).export(converted_path, format=\"wav\")\n",
    "\n",
    "\n",
    "    # Reconnaissance vocale\n",
    "    r = sr.Recognizer()\n",
    "    try:\n",
    "\n",
    "        with sr.AudioFile(converted_path) as source:\n",
    "            audio_data = r.record(source)\n",
    "        text = r.recognize_google(audio_data, language=\"ar-AR\")\n",
    "        reponse= \"لقد قلت : \"+text+'\\n'+text\n",
    "\n",
    "        response = {'answer': reponse}\n",
    "        return jsonify(response)\n",
    "    \n",
    "    except:\n",
    "        error_message = \"لايمكنني سماعك جيدا، اعد المحاولة من فضلك\"\n",
    "        return jsonify({'answer': error_message})\n",
    "    \n",
    "\n",
    "\n",
    "if __name__==\"__main__\":\n",
    "    app.run(debug=False)\n",
    "    \n",
    "    "
   ]
  }
 ],
 "metadata": {
  "kernelspec": {
   "display_name": "Python 3 (ipykernel)",
   "language": "python",
   "name": "python3"
  },
  "language_info": {
   "codemirror_mode": {
    "name": "ipython",
    "version": 3
   },
   "file_extension": ".py",
   "mimetype": "text/x-python",
   "name": "python",
   "nbconvert_exporter": "python",
   "pygments_lexer": "ipython3",
   "version": "3.9.16"
  }
 },
 "nbformat": 4,
 "nbformat_minor": 5
}
